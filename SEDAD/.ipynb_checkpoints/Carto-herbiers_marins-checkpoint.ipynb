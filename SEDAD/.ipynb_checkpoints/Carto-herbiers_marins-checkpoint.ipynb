{
 "cells": [
  {
   "cell_type": "code",
   "execution_count": null,
   "id": "e7209550-8364-4830-8e2e-343fa1edec57",
   "metadata": {},
   "outputs": [],
   "source": [
    "%matplotlib inline\n",
    "import os\n",
    "\n",
    "import rasterio\n",
    "import random\n",
    "import json\n",
    "import sys\n",
    "import datacube\n",
    "import matplotlib\n",
    "import geopandas as gpd\n",
    "import numpy as np\n",
    "import pandas as pd\n",
    "import xarray as xr\n",
    "from tqdm import tqdm\n",
    "import matplotlib.pyplot as plt\n",
    "import matplotlib.patches as mpatches\n",
    "from matplotlib.colors import ListedColormap\n",
    "from geopy.geocoders import Nominatim \n",
    "from shapely import speedups\n",
    "from shapely.geometry import Point, Polygon\n",
    "from shapely.ops import triangulate\n",
    "from shapely.strtree import STRtree\n",
    "from sklearn.model_selection import train_test_split\n",
    "from sklearn.ensemble import RandomForestClassifier\n",
    "from deafrica_tools.plotting import display_map, map_shapefile, plot_lulc, rgb\n",
    "from deafrica_tools.datahandling import load_ard, mostcommon_crs\n",
    "from deafrica_tools.bandindices import calculate_indices\n",
    "from deafrica_tools.dask import create_local_dask_cluster\n",
    "from datacube.utils.geometry import Geometry\n",
    "from deafrica_tools.spatial import xr_rasterize\n",
    "\n",
    "import matplotlib.colors as mcolors\n",
    "from matplotlib_scalebar.scalebar import ScaleBar"
   ]
  },
  {
   "cell_type": "code",
   "execution_count": 2,
   "id": "55b5ea6d-9280-4f28-866f-3d45cb305f53",
   "metadata": {},
   "outputs": [
    {
     "data": {
      "text/html": [
       "<table style=\"border: 2px solid white;\">\n",
       "<tr>\n",
       "<td style=\"vertical-align: top; border: 0px solid white\">\n",
       "<h3 style=\"text-align: left;\">Client</h3>\n",
       "<ul style=\"text-align: left; list-style: none; margin: 0; padding: 0;\">\n",
       "  <li><b>Scheduler: </b>tcp://127.0.0.1:42473</li>\n",
       "  <li><b>Dashboard: </b><a href='/user/ndeye.fatou.sane28@gmail.com/proxy/8787/status' target='_blank'>/user/ndeye.fatou.sane28@gmail.com/proxy/8787/status</a></li>\n",
       "</ul>\n",
       "</td>\n",
       "<td style=\"vertical-align: top; border: 0px solid white\">\n",
       "<h3 style=\"text-align: left;\">Cluster</h3>\n",
       "<ul style=\"text-align: left; list-style:none; margin: 0; padding: 0;\">\n",
       "  <li><b>Workers: </b>1</li>\n",
       "  <li><b>Cores: </b>4</li>\n",
       "  <li><b>Memory: </b>28.14 GB</li>\n",
       "</ul>\n",
       "</td>\n",
       "</tr>\n",
       "</table>"
      ],
      "text/plain": [
       "<Client: 'tcp://127.0.0.1:42473' processes=1 threads=4, memory=28.14 GB>"
      ]
     },
     "metadata": {},
     "output_type": "display_data"
    }
   ],
   "source": [
    "create_local_dask_cluster()"
   ]
  },
  {
   "cell_type": "code",
   "execution_count": 3,
   "id": "73eb1377-a897-466e-9d35-fe2918ce08ad",
   "metadata": {},
   "outputs": [],
   "source": [
    "dc = datacube.Datacube(app=\"Monitoring_water_quality\")"
   ]
  },
  {
   "cell_type": "code",
   "execution_count": null,
   "id": "4dbdf925-2bdc-41fc-b5ae-92c8bb00ca54",
   "metadata": {},
   "outputs": [],
   "source": [
    "# Specify a prefix to identify the area of interest in the saved outputs\n",
    "# By assigning the desired prefix, you can easily identify the outputs associated with the specific area of interest.\n",
    "prefix = \"Senegal\"\n",
    "\n",
    "#Load area of interest vector\n",
    "aoi_boundaries_gdf = gpd.read_file(\"SEN_adm2.geojson\").to_crs(\n",
    "    \"EPSG:6933\")\n",
    "\n",
    "# Load AMPs polygons\n",
    "AMP_inventory_gdf = gpd.overlay(gpd.read_file(\n",
    "    \"AMP_SN_2023.geojson\").to_crs(\"EPSG:6933\"), aoi_boundaries_gdf, how='intersection')\n",
    "\n",
    "\n",
    "# Plot the area of interest (AOI) and the Wetland polygons\n",
    "fig, ax = plt.subplots()\n",
    "base = aoi_boundaries_gdf.plot(ax=ax, color='white', edgecolor='black')\n",
    "wetland_inventory_gdf.plot(ax=base, marker='o', color='blue', markersize=5)\n",
    "legend_patch = mpatches.Patch(color='blue', label='AMP')\n",
    "plt.title(f\"{prefix} AMPs\")\n",
    "ax.legend(handles=[legend_patch], loc='upper right')\n",
    "plt.subplots_adjust(bottom=0.15)\n",
    "plt.show()"
   ]
  },
  {
   "cell_type": "code",
   "execution_count": null,
   "id": "2318b120-e197-49f6-bfa0-7b6cd3afebf8",
   "metadata": {},
   "outputs": [],
   "source": [
    "# Plot the first five rows of the AMPs geodatframe to identify the column with the wetland classes\n",
    "AMP_inventory_gdf.head()"
   ]
  },
  {
   "cell_type": "code",
   "execution_count": null,
   "id": "1849c8cf-ebea-49b9-8e70-7b403d70620d",
   "metadata": {},
   "outputs": [],
   "source": []
  },
  {
   "cell_type": "code",
   "execution_count": null,
   "id": "889a040b-dabf-4f88-b69e-5c83fed6fa88",
   "metadata": {},
   "outputs": [],
   "source": [
    "import os\n",
    "import numpy as np\n",
    "import rasterio\n",
    "from sentinelsat import SentinelAPI, read_geojson, geojson_to_wkt\n",
    "from sklearn.ensemble import RandomForestClassifier\n",
    "from sklearn.model_selection import train_test_split\n",
    "import matplotlib.pyplot as plt\n",
    "import geopandas as gpd\n",
    "\n",
    "# 1. Téléchargement des Images Sentinel-2\n",
    "def download_sentinel_data(username, password, footprint, start_date, end_date):\n",
    "    api = SentinelAPI(username, password, 'https://scihub.copernicus.eu/dhus')\n",
    "    products = api.query(footprint,\n",
    "                         date=(start_date, end_date),\n",
    "                         platformname='Sentinel-2',\n",
    "                         cloudcoverpercentage=(0, 30))\n",
    "    api.download_all(products)\n",
    "\n",
    "# 2. Prétraitement des Images\n",
    "def preprocess_image(image_path):\n",
    "    with rasterio.open(image_path) as src:\n",
    "        band_red = src.read(3)\n",
    "        band_green = src.read(2)\n",
    "        band_blue = src.read(1)\n",
    "        band_nir = src.read(8)\n",
    "\n",
    "        # Normalisation\n",
    "        band_red = band_red / 10000.0\n",
    "        band_green = band_green / 10000.0\n",
    "        band_blue = band_blue / 10000.0\n",
    "        band_nir = band_nir / 10000.0\n",
    "        \n",
    "        return np.stack([band_red, band_green, band_blue, band_nir], axis=-1)\n",
    "\n",
    "# 3. Classification\n",
    "def classify_image(image):\n",
    "    # Placeholder for training data and labels\n",
    "    X = []  # Features\n",
    "    y = []  # Labels\n",
    "    \n",
    "    # Add your training data collection logic here\n",
    "\n",
    "    # Example: Train a RandomForestClassifier\n",
    "    X_train, X_test, y_train, y_test = train_test_split(X, y, test_size=0.2, random_state=42)\n",
    "    classifier = RandomForestClassifier(n_estimators=100, random_state=42)\n",
    "    classifier.fit(X_train, y_train)\n",
    "    \n",
    "    prediction = classifier.predict(image.reshape(-1, image.shape[2])).reshape(image.shape[0], image.shape[1])\n",
    "    return prediction\n",
    "\n",
    "# 4. Visualisation\n",
    "def plot_classification(prediction, image_path):\n",
    "    fig, ax = plt.subplots(1, 1, figsize=(12, 12))\n",
    "    with rasterio.open(image_path) as src:\n",
    "        ax.imshow(src.read([3, 2, 1]).transpose(1, 2, 0) / 10000.0, extent=src.bounds, cmap='gray')\n",
    "        ax.imshow(prediction, alpha=0.5, cmap='viridis')\n",
    "    plt.show()\n",
    "\n",
    "# Exemple d'utilisation\n",
    "username = 'votre_nom_utilisateur'\n",
    "password = 'votre_mot_de_passe'\n",
    "footprint = geojson_to_wkt(read_geojson('votre_fichier_geojson.geojson'))\n",
    "start_date = '20220101'\n",
    "end_date = '20220131'\n",
    "\n",
    "# Télécharger les données\n",
    "download_sentinel_data(username, password, footprint, start_date, end_date)\n",
    "\n",
    "# Prétraiter une image\n",
    "image_path = 'chemin/vers/votre/image.tif'\n",
    "image = preprocess_image(image_path)\n",
    "\n",
    "# Classifier l'image\n",
    "prediction = classify_image(image)\n",
    "\n",
    "# Visualiser le résultat\n",
    "plot_classification(prediction, image_path)\n"
   ]
  },
  {
   "cell_type": "code",
   "execution_count": null,
   "id": "3924e2fc-2243-475e-9fb5-794487d02880",
   "metadata": {},
   "outputs": [],
   "source": []
  },
  {
   "cell_type": "code",
   "execution_count": null,
   "id": "1cb21f92-5df0-4a1b-b0f1-c6cf3ff5cb1f",
   "metadata": {},
   "outputs": [],
   "source": []
  },
  {
   "cell_type": "code",
   "execution_count": null,
   "id": "a029a1c9-b869-4b75-ade3-1a68e335d42b",
   "metadata": {},
   "outputs": [],
   "source": []
  },
  {
   "cell_type": "code",
   "execution_count": null,
   "id": "3877ddeb-b5eb-451b-80e1-1ee5029ddbb4",
   "metadata": {},
   "outputs": [],
   "source": []
  },
  {
   "cell_type": "code",
   "execution_count": null,
   "id": "c8404fe8-45a1-4c5f-89dc-e8157bb9b0cb",
   "metadata": {},
   "outputs": [],
   "source": []
  },
  {
   "cell_type": "code",
   "execution_count": null,
   "id": "aa000790-7f28-4b4a-a59a-9fe42d01de34",
   "metadata": {},
   "outputs": [],
   "source": []
  },
  {
   "cell_type": "code",
   "execution_count": null,
   "id": "2d2db8f8-d0ea-4839-b7bb-0b14cefced35",
   "metadata": {},
   "outputs": [],
   "source": []
  },
  {
   "cell_type": "code",
   "execution_count": null,
   "id": "e82facc4-1282-45bd-8986-b19825358fca",
   "metadata": {},
   "outputs": [],
   "source": []
  },
  {
   "cell_type": "code",
   "execution_count": null,
   "id": "0ae13a9e-7078-4a99-87b5-898ec4b67332",
   "metadata": {},
   "outputs": [],
   "source": []
  },
  {
   "cell_type": "code",
   "execution_count": null,
   "id": "b6fe0d6d-8ca3-4e83-8640-65f49e21572a",
   "metadata": {},
   "outputs": [],
   "source": []
  },
  {
   "cell_type": "code",
   "execution_count": null,
   "id": "1907c183-2b14-4c39-a285-a4448b106bb4",
   "metadata": {},
   "outputs": [],
   "source": []
  },
  {
   "cell_type": "code",
   "execution_count": null,
   "id": "5c64c915-ba32-4c44-b3b7-eeec8d00e190",
   "metadata": {},
   "outputs": [],
   "source": []
  },
  {
   "cell_type": "code",
   "execution_count": null,
   "id": "3cc037c6-3b64-46a3-bc1c-64984b816f87",
   "metadata": {},
   "outputs": [],
   "source": []
  }
 ],
 "metadata": {
  "kernelspec": {
   "display_name": "Python 3 (ipykernel)",
   "language": "python",
   "name": "python3"
  },
  "language_info": {
   "codemirror_mode": {
    "name": "ipython",
    "version": 3
   },
   "file_extension": ".py",
   "mimetype": "text/x-python",
   "name": "python",
   "nbconvert_exporter": "python",
   "pygments_lexer": "ipython3",
   "version": "3.10.12"
  }
 },
 "nbformat": 4,
 "nbformat_minor": 5
}
