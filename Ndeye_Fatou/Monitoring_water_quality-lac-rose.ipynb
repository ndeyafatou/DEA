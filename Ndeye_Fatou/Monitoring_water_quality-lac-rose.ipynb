{
 "cells": [
  {
   "cell_type": "markdown",
   "metadata": {},
   "source": [
    "# Monitoring Water Quality\n",
    "\n",
    "* **Products used:** \n",
    "[ls8_sr](https://explorer.digitalearth.africa/ls8_sr), \n",
    "[wofs_ls](https://explorer.digitalearth.africa/products/wofs_ls)"
   ]
  },
  {
   "cell_type": "raw",
   "metadata": {
    "raw_mimetype": "text/restructuredtext"
   },
   "source": [
    "**Keywords** :index:`data used; landsat 8`, :index:`data used; WOfS`, :index:`data methods; compositing`, :index:`dask`, :index:`water quality`"
   ]
  },
  {
   "cell_type": "markdown",
   "metadata": {},
   "source": [
    "## Background\n",
    "The UN [SDG 6.3.2](https://www.sdg6monitoring.org/indicator-632/) indicator is the \"proportion of bodies of water with good ambient water quality\". There are many ways to measure water quality using remote sensing based algorithms; this notebook compares several of them. They usually estimate the amount of suspended matter in water."
   ]
  },
  {
   "cell_type": "markdown",
   "metadata": {},
   "source": [
    "## Description\n",
    "This notebook shows results for three empirical algorithms and one spectral index addressing total suspended matter (TSM) in water.\n",
    "There are a number of caveats to be aware of when applying these algorithms:\n",
    "\n",
    "* These algorithms were developed for specific regions of the world and are not necessarily universally valid.\n",
    "* Landsat-8 data is a surface reflectance product, and since water has a very low radiance, the accuracy of the results can be severaly impacted by small differences in atmospheric conditions, or differences in atmospheric correction algorithms.\n",
    "* The colorbars for these results have been removed to avoid showing specific quantities for the TSM results. It is best to use these results to assess qualitative changes in water quality (e.g. low, medium, high). With improvements in analysis-ready data (e.g. water leaving radiance), and with in-situ sampling of water bodies for empirical modelling, it will be possible to increase the accuracy of these water quality results and even consider the numerical output. \n",
    "\n",
    "\n",
    "The showcased water quality algorithms are:\n",
    "\n",
    "1. Lymburner Total Suspended Matter (TSM)\n",
    "2. Suspended Particulate Model (SPM)\n",
    "3. Normalized Difference Suspended Sediment Index (NDSSI)\n",
    "4. Quang Total Suspended Solids (TSS)\n",
    "\n",
    "***"
   ]
  },
  {
   "cell_type": "markdown",
   "metadata": {},
   "source": [
    "## Getting started\n",
    "\n",
    "To run this analysis, run all the cells in the notebook, starting with the \"Load packages\" cell. "
   ]
  },
  {
   "cell_type": "markdown",
   "metadata": {},
   "source": [
    "### Load packages\n",
    "Import Python packages that are used for the analysis."
   ]
  },
  {
   "cell_type": "code",
   "execution_count": 1,
   "metadata": {},
   "outputs": [],
   "source": [
    "%matplotlib inline\n",
    "\n",
    "import datacube\n",
    "import numpy as np\n",
    "import xarray as xr\n",
    "import matplotlib.pyplot as plt\n",
    "\n",
    "from deafrica_tools.plotting import display_map, rgb\n",
    "from deafrica_tools.datahandling import load_ard, mostcommon_crs, wofs_fuser\n"
   ]
  },
  {
   "cell_type": "markdown",
   "metadata": {},
   "source": [
    "### Connect to the datacube\n",
    "Activate the datacube database, which provides functionality for loading and displaying stored Earth observation data."
   ]
  },
  {
   "cell_type": "code",
   "execution_count": 2,
   "metadata": {},
   "outputs": [],
   "source": [
    "dc = datacube.Datacube(app=\"Monitoring_water_quality\")"
   ]
  },
  {
   "cell_type": "markdown",
   "metadata": {},
   "source": [
    "### Analysis parameters\n",
    "\n",
    "The following cell sets important parameters for the analysis. The parameters are:\n",
    "\n",
    "* `lat`: The central latitude to analyse (e.g. `10.338`).\n",
    "* `lon`: The central longitude to analyse (e.g. `-1.055`).\n",
    "* `lat_buffer`: The number of degrees to load around the central latitude.\n",
    "* `lon_buffer`: The number of degrees to load around the central longitude.\n",
    "* `time_range`: The time range to analyze - in YYYY-MM-DD format (e.g. `('2016-01-01', '2016-12-31')`).\n",
    "\n",
    "**If running the notebook for the first time**, keep the default settings below.\n",
    "This will demonstrate how the analysis works and provide meaningful results.\n",
    "The example covers water quality in Lake Manyara.\n",
    "\n",
    "**To run the notebook for a different area**, make sure Landsat 8 data is available for the chosen area using the [DEAfrica Explorer](https://explorer.digitalearth.africa).\n",
    "Use the drop-down menu to check Landsat 8 (`ls8_sr`).\n",
    "\n",
    "#### Suggested areas\n",
    "Here are some suggestions for areas to look at. To view one of these areas, copy and paste the parameter values into the cell below, then run the notebook.\n",
    "\n",
    "**Lake Guiers, Senegal**\n",
    "```\n",
    "lat = 16.1547\n",
    "lon = -15.8756\n",
    "lat_buffer = 0.35\n",
    "lon_buffer = 0.1250\n",
    "```\n",
    "\n",
    "**Aere Lao, Senegal**\n",
    "```\n",
    "lat = 16.39350\n",
    "lon = -14.27289\n",
    "lat_buffer = 0.042\n",
    "lon_buffer = 0.038\n",
    "```\n",
    "\n",
    "**Lake Manyara, Tanzania**\n",
    "```\n",
    "lat = -3.611\n",
    "lon = 35.8261\n",
    "lat_buffer = 0.2025\n",
    "lon_buffer = 0.1025\n",
    "```\n",
    "\n",
    "**Weija Reservoir, Ghana**\n",
    "```\n",
    "lat = 5.583\n",
    "lon = -0.366\n",
    "lat_buffer = 0.042\n",
    "lon_buffer = 0.038\n",
    "```\n",
    "\n",
    "**Lake Sulunga, Tanzania**\n",
    "```\n",
    "lat = -6.06\n",
    "lon = 35.17\n",
    "lat_buffer = 0.2\n",
    "lon_buffer = 0.19\n",
    "```"
   ]
  },
  {
   "cell_type": "markdown",
   "metadata": {},
   "source": [
    "### Select location"
   ]
  },
  {
   "cell_type": "code",
   "execution_count": 3,
   "metadata": {},
   "outputs": [],
   "source": [
    "# Define the area of interest lac Rose\n",
    "lat, lon = 14.8371, -17.2333\n",
    "\n",
    "lat_buffer = 0.01\n",
    "lon_buffer = 0.02\n",
    "\n",
    "# Define the area of interest Lake Guiers Senegal\n",
    "#lat = 16.18\n",
    "#lon = -15.85\n",
    "#lat_buffer = 0.2\n",
    "#lon_buffer = 0.09\n",
    "\n",
    "#lat = 16.1547\n",
    "#lon = -15.8756\n",
    "#lat_buffer = 0.35\n",
    "#lon_buffer = 0.1250\n",
    "\n",
    "# Time period\n",
    "#time_range = (\"2013\")\n",
    "#time_range = (\"2016-03-31\")\n",
    "time_range = (\"2016-05-02\")\n",
    "\n",
    "# Combine central lat,lon with buffer to get area of interest\n",
    "lat_range = (lat - lat_buffer, lat + lat_buffer)\n",
    "lon_range = (lon - lon_buffer, lon + lon_buffer)"
   ]
  },
  {
   "cell_type": "markdown",
   "metadata": {},
   "source": [
    "## View the selected location\n",
    "The next cell will display the selected area on an interactive map.\n",
    "Feel free to zoom in and out to get a better understanding of the area you'll be analysing.\n",
    "Clicking on any point of the map will reveal the latitude and longitude coordinates of that point."
   ]
  },
  {
   "cell_type": "code",
   "execution_count": 4,
   "metadata": {},
   "outputs": [
    {
     "data": {
      "text/html": [
       "<div style=\"width:100%;\"><div style=\"position:relative;width:100%;height:0;padding-bottom:60%;\"><span style=\"color:#565656\">Make this Notebook Trusted to load map: File -> Trust Notebook</span><iframe src=\"about:blank\" style=\"position:absolute;width:100%;height:100%;left:0;top:0;border:none !important;\" data-html=%3C%21DOCTYPE%20html%3E%0A%3Chead%3E%20%20%20%20%0A%20%20%20%20%3Cmeta%20http-equiv%3D%22content-type%22%20content%3D%22text/html%3B%20charset%3DUTF-8%22%20/%3E%0A%20%20%20%20%0A%20%20%20%20%20%20%20%20%3Cscript%3E%0A%20%20%20%20%20%20%20%20%20%20%20%20L_NO_TOUCH%20%3D%20false%3B%0A%20%20%20%20%20%20%20%20%20%20%20%20L_DISABLE_3D%20%3D%20false%3B%0A%20%20%20%20%20%20%20%20%3C/script%3E%0A%20%20%20%20%0A%20%20%20%20%3Cstyle%3Ehtml%2C%20body%20%7Bwidth%3A%20100%25%3Bheight%3A%20100%25%3Bmargin%3A%200%3Bpadding%3A%200%3B%7D%3C/style%3E%0A%20%20%20%20%3Cstyle%3E%23map%20%7Bposition%3Aabsolute%3Btop%3A0%3Bbottom%3A0%3Bright%3A0%3Bleft%3A0%3B%7D%3C/style%3E%0A%20%20%20%20%3Cscript%20src%3D%22https%3A//cdn.jsdelivr.net/npm/leaflet%401.6.0/dist/leaflet.js%22%3E%3C/script%3E%0A%20%20%20%20%3Cscript%20src%3D%22https%3A//code.jquery.com/jquery-1.12.4.min.js%22%3E%3C/script%3E%0A%20%20%20%20%3Cscript%20src%3D%22https%3A//maxcdn.bootstrapcdn.com/bootstrap/3.2.0/js/bootstrap.min.js%22%3E%3C/script%3E%0A%20%20%20%20%3Cscript%20src%3D%22https%3A//cdnjs.cloudflare.com/ajax/libs/Leaflet.awesome-markers/2.0.2/leaflet.awesome-markers.js%22%3E%3C/script%3E%0A%20%20%20%20%3Clink%20rel%3D%22stylesheet%22%20href%3D%22https%3A//cdn.jsdelivr.net/npm/leaflet%401.6.0/dist/leaflet.css%22/%3E%0A%20%20%20%20%3Clink%20rel%3D%22stylesheet%22%20href%3D%22https%3A//maxcdn.bootstrapcdn.com/bootstrap/3.2.0/css/bootstrap.min.css%22/%3E%0A%20%20%20%20%3Clink%20rel%3D%22stylesheet%22%20href%3D%22https%3A//maxcdn.bootstrapcdn.com/bootstrap/3.2.0/css/bootstrap-theme.min.css%22/%3E%0A%20%20%20%20%3Clink%20rel%3D%22stylesheet%22%20href%3D%22https%3A//maxcdn.bootstrapcdn.com/font-awesome/4.6.3/css/font-awesome.min.css%22/%3E%0A%20%20%20%20%3Clink%20rel%3D%22stylesheet%22%20href%3D%22https%3A//cdnjs.cloudflare.com/ajax/libs/Leaflet.awesome-markers/2.0.2/leaflet.awesome-markers.css%22/%3E%0A%20%20%20%20%3Clink%20rel%3D%22stylesheet%22%20href%3D%22https%3A//cdn.jsdelivr.net/gh/python-visualization/folium/folium/templates/leaflet.awesome.rotate.min.css%22/%3E%0A%20%20%20%20%0A%20%20%20%20%20%20%20%20%20%20%20%20%3Cmeta%20name%3D%22viewport%22%20content%3D%22width%3Ddevice-width%2C%0A%20%20%20%20%20%20%20%20%20%20%20%20%20%20%20%20initial-scale%3D1.0%2C%20maximum-scale%3D1.0%2C%20user-scalable%3Dno%22%20/%3E%0A%20%20%20%20%20%20%20%20%20%20%20%20%3Cstyle%3E%0A%20%20%20%20%20%20%20%20%20%20%20%20%20%20%20%20%23map_db0f07a84ba040caa71eb2187d6559a4%20%7B%0A%20%20%20%20%20%20%20%20%20%20%20%20%20%20%20%20%20%20%20%20position%3A%20relative%3B%0A%20%20%20%20%20%20%20%20%20%20%20%20%20%20%20%20%20%20%20%20width%3A%20100.0%25%3B%0A%20%20%20%20%20%20%20%20%20%20%20%20%20%20%20%20%20%20%20%20height%3A%20100.0%25%3B%0A%20%20%20%20%20%20%20%20%20%20%20%20%20%20%20%20%20%20%20%20left%3A%200.0%25%3B%0A%20%20%20%20%20%20%20%20%20%20%20%20%20%20%20%20%20%20%20%20top%3A%200.0%25%3B%0A%20%20%20%20%20%20%20%20%20%20%20%20%20%20%20%20%7D%0A%20%20%20%20%20%20%20%20%20%20%20%20%3C/style%3E%0A%20%20%20%20%20%20%20%20%0A%3C/head%3E%0A%3Cbody%3E%20%20%20%20%0A%20%20%20%20%0A%20%20%20%20%20%20%20%20%20%20%20%20%3Cdiv%20class%3D%22folium-map%22%20id%3D%22map_db0f07a84ba040caa71eb2187d6559a4%22%20%3E%3C/div%3E%0A%20%20%20%20%20%20%20%20%0A%3C/body%3E%0A%3Cscript%3E%20%20%20%20%0A%20%20%20%20%0A%20%20%20%20%20%20%20%20%20%20%20%20var%20map_db0f07a84ba040caa71eb2187d6559a4%20%3D%20L.map%28%0A%20%20%20%20%20%20%20%20%20%20%20%20%20%20%20%20%22map_db0f07a84ba040caa71eb2187d6559a4%22%2C%0A%20%20%20%20%20%20%20%20%20%20%20%20%20%20%20%20%7B%0A%20%20%20%20%20%20%20%20%20%20%20%20%20%20%20%20%20%20%20%20center%3A%20%5B14.8371%2C%20-17.2333%5D%2C%0A%20%20%20%20%20%20%20%20%20%20%20%20%20%20%20%20%20%20%20%20crs%3A%20L.CRS.EPSG3857%2C%0A%20%20%20%20%20%20%20%20%20%20%20%20%20%20%20%20%20%20%20%20zoom%3A%2014%2C%0A%20%20%20%20%20%20%20%20%20%20%20%20%20%20%20%20%20%20%20%20zoomControl%3A%20true%2C%0A%20%20%20%20%20%20%20%20%20%20%20%20%20%20%20%20%20%20%20%20preferCanvas%3A%20false%2C%0A%20%20%20%20%20%20%20%20%20%20%20%20%20%20%20%20%7D%0A%20%20%20%20%20%20%20%20%20%20%20%20%29%3B%0A%0A%20%20%20%20%20%20%20%20%20%20%20%20%0A%0A%20%20%20%20%20%20%20%20%0A%20%20%20%20%0A%20%20%20%20%20%20%20%20%20%20%20%20var%20tile_layer_0c4c00f3da6a42bf906cdfeea00886e5%20%3D%20L.tileLayer%28%0A%20%20%20%20%20%20%20%20%20%20%20%20%20%20%20%20%22http%3A//mt1.google.com/vt/lyrs%3Dy%5Cu0026z%3D%7Bz%7D%5Cu0026x%3D%7Bx%7D%5Cu0026y%3D%7By%7D%22%2C%0A%20%20%20%20%20%20%20%20%20%20%20%20%20%20%20%20%7B%22attribution%22%3A%20%22Google%22%2C%20%22detectRetina%22%3A%20false%2C%20%22maxNativeZoom%22%3A%2018%2C%20%22maxZoom%22%3A%2018%2C%20%22minZoom%22%3A%200%2C%20%22noWrap%22%3A%20false%2C%20%22opacity%22%3A%201%2C%20%22subdomains%22%3A%20%22abc%22%2C%20%22tms%22%3A%20false%7D%0A%20%20%20%20%20%20%20%20%20%20%20%20%29.addTo%28map_db0f07a84ba040caa71eb2187d6559a4%29%3B%0A%20%20%20%20%20%20%20%20%0A%20%20%20%20%0A%20%20%20%20%20%20%20%20%20%20%20%20var%20poly_line_1d857336212a4daf86519f05222c0efa%20%3D%20L.polyline%28%0A%20%20%20%20%20%20%20%20%20%20%20%20%20%20%20%20%5B%5B14.8271%2C%20-17.2533%5D%2C%20%5B14.8271%2C%20-17.2133%5D%2C%20%5B14.8471%2C%20-17.2133%5D%2C%20%5B14.8471%2C%20-17.2533%5D%2C%20%5B14.8271%2C%20-17.2533%5D%5D%2C%0A%20%20%20%20%20%20%20%20%20%20%20%20%20%20%20%20%7B%22bubblingMouseEvents%22%3A%20true%2C%20%22color%22%3A%20%22red%22%2C%20%22dashArray%22%3A%20null%2C%20%22dashOffset%22%3A%20null%2C%20%22fill%22%3A%20false%2C%20%22fillColor%22%3A%20%22red%22%2C%20%22fillOpacity%22%3A%200.2%2C%20%22fillRule%22%3A%20%22evenodd%22%2C%20%22lineCap%22%3A%20%22round%22%2C%20%22lineJoin%22%3A%20%22round%22%2C%20%22noClip%22%3A%20false%2C%20%22opacity%22%3A%200.8%2C%20%22smoothFactor%22%3A%201.0%2C%20%22stroke%22%3A%20true%2C%20%22weight%22%3A%203%7D%0A%20%20%20%20%20%20%20%20%20%20%20%20%29.addTo%28map_db0f07a84ba040caa71eb2187d6559a4%29%3B%0A%20%20%20%20%20%20%20%20%0A%20%20%20%20%0A%20%20%20%20%20%20%20%20%20%20%20%20%20%20%20%20var%20lat_lng_popup_74f098f9628141d2badfc5e003cb17fe%20%3D%20L.popup%28%29%3B%0A%20%20%20%20%20%20%20%20%20%20%20%20%20%20%20%20function%20latLngPop%28e%29%20%7B%0A%20%20%20%20%20%20%20%20%20%20%20%20%20%20%20%20%20%20%20%20lat_lng_popup_74f098f9628141d2badfc5e003cb17fe%0A%20%20%20%20%20%20%20%20%20%20%20%20%20%20%20%20%20%20%20%20%20%20%20%20.setLatLng%28e.latlng%29%0A%20%20%20%20%20%20%20%20%20%20%20%20%20%20%20%20%20%20%20%20%20%20%20%20.setContent%28%22Latitude%3A%20%22%20%2B%20e.latlng.lat.toFixed%284%29%20%2B%0A%20%20%20%20%20%20%20%20%20%20%20%20%20%20%20%20%20%20%20%20%20%20%20%20%20%20%20%20%20%20%20%20%20%20%20%20%22%3Cbr%3ELongitude%3A%20%22%20%2B%20e.latlng.lng.toFixed%284%29%29%0A%20%20%20%20%20%20%20%20%20%20%20%20%20%20%20%20%20%20%20%20%20%20%20%20.openOn%28map_db0f07a84ba040caa71eb2187d6559a4%29%3B%0A%20%20%20%20%20%20%20%20%20%20%20%20%20%20%20%20%20%20%20%20%7D%0A%20%20%20%20%20%20%20%20%20%20%20%20%20%20%20%20map_db0f07a84ba040caa71eb2187d6559a4.on%28%27click%27%2C%20latLngPop%29%3B%0A%20%20%20%20%20%20%20%20%20%20%20%20%0A%3C/script%3E onload=\"this.contentDocument.open();this.contentDocument.write(    decodeURIComponent(this.getAttribute('data-html')));this.contentDocument.close();\" allowfullscreen webkitallowfullscreen mozallowfullscreen></iframe></div></div>"
      ],
      "text/plain": [
       "<folium.folium.Map at 0x7ff89a9a7d60>"
      ]
     },
     "execution_count": 4,
     "metadata": {},
     "output_type": "execute_result"
    }
   ],
   "source": [
    "# The code below renders a map that can be used to view the region.\n",
    "display_map(lon_range, lat_range)"
   ]
  },
  {
   "cell_type": "markdown",
   "metadata": {},
   "source": [
    "## Load the data\n",
    "We can use the [load_ard](Using_load_ard.ipynb) function to load data from multiple satellites (i.e. Landsat 7 and Landsat 8), and return a single `xarray.Dataset` containing only observations with a minimum percentage of good quality pixels.\n",
    "\n",
    "In the example below, we request that the function returns only observations which are 90% free of clouds and other poor quality pixels by specifying `min_gooddata=0.90`."
   ]
  },
  {
   "cell_type": "code",
   "execution_count": 5,
   "metadata": {},
   "outputs": [
    {
     "name": "stdout",
     "output_type": "stream",
     "text": [
      "Using pixel quality parameters for USGS Collection 2\n",
      "Finding datasets\n",
      "    ls8_sr\n",
      "Applying pixel quality/cloud mask\n",
      "Re-scaling Landsat C2 data\n",
      "Returning 1 time steps as a dask array\n"
     ]
    },
    {
     "name": "stderr",
     "output_type": "stream",
     "text": [
      "/home/jovyan/Tools/deafrica_tools/datahandling.py:474: FutureWarning: xarray.ufuncs is deprecated. Instead, use numpy ufuncs directly.\n",
      "  pq_mask = xr.ufuncs.logical_or(pq_mask, pq_mask)\n",
      "/env/lib/python3.8/site-packages/xarray/core/dataarray.py:3088: FutureWarning: xarray.ufuncs is deprecated. Instead, use numpy ufuncs directly.\n",
      "  f(self.variable, other_variable)\n",
      "/env/lib/python3.8/site-packages/xarray/core/variable.py:2420: FutureWarning: xarray.ufuncs is deprecated. Instead, use numpy ufuncs directly.\n",
      "  f(self_data, other_data) if not reflexive else f(other_data, self_data)\n"
     ]
    }
   ],
   "source": [
    "# Create the 'query' dictionary object, which contains the longitudes,\n",
    "# latitudes and time provided above\n",
    "query = {\n",
    "    \"x\": lon_range,\n",
    "    \"y\": lat_range,\n",
    "    \"time\": time_range,\n",
    "    \"resolution\": (-30, 30),\n",
    "    \"align\": (15, 15),\n",
    "}\n",
    "\n",
    "# Identify the most common projection system in the input query\n",
    "output_crs = mostcommon_crs(dc=dc, product='ls8_sr', query=query)\n",
    "\n",
    "# Load available data\n",
    "ds = load_ard(\n",
    "    dc=dc,\n",
    "    products=['ls8_sr'],\n",
    "    measurements=[\"red\", \"green\", \"blue\", \"nir\"],\n",
    "    group_by=\"solar_day\",\n",
    "    dask_chunks={\"time\": 1, \"x\": 2000, \"y\": 2000},\n",
    "    output_crs=output_crs,\n",
    "    **query\n",
    ")"
   ]
  },
  {
   "cell_type": "markdown",
   "metadata": {},
   "source": [
    "**Once the load is complete**, examine the data by printing it in the next cell.\n",
    "The `Dimensions` attribute revels the number of time steps in the data set, as well as the number of pixels in the `x` (longitude) and `y` (latitude) dimensions."
   ]
  },
  {
   "cell_type": "code",
   "execution_count": 6,
   "metadata": {},
   "outputs": [
    {
     "name": "stdout",
     "output_type": "stream",
     "text": [
      "<xarray.Dataset>\n",
      "Dimensions:      (time: 1, y: 77, x: 145)\n",
      "Coordinates:\n",
      "  * time         (time) datetime64[ns] 2016-05-02T11:27:05.980064\n",
      "  * y            (y) float64 1.643e+06 1.643e+06 1.643e+06 ... 1.64e+06 1.64e+06\n",
      "  * x            (x) float64 2.575e+05 2.576e+05 ... 2.618e+05 2.618e+05\n",
      "    spatial_ref  int32 32628\n",
      "Data variables:\n",
      "    red          (time, y, x) float32 dask.array<chunksize=(1, 77, 145), meta=np.ndarray>\n",
      "    green        (time, y, x) float32 dask.array<chunksize=(1, 77, 145), meta=np.ndarray>\n",
      "    blue         (time, y, x) float32 dask.array<chunksize=(1, 77, 145), meta=np.ndarray>\n",
      "    nir          (time, y, x) float32 dask.array<chunksize=(1, 77, 145), meta=np.ndarray>\n",
      "Attributes:\n",
      "    crs:           epsg:32628\n",
      "    grid_mapping:  spatial_ref\n"
     ]
    }
   ],
   "source": [
    "print(ds)"
   ]
  },
  {
   "cell_type": "markdown",
   "metadata": {},
   "source": [
    "### Load WOfS\n",
    "\n",
    "To make sure the algorithms for measuring water quality are only applied to areas with water, it is useful to extract the water extent from the [Water Observations from Space (WOfS) product](https://explorer.digitalearth.africa/wofs_ls).\n",
    "The water extent can then be used to mask the geomedian composite so that the water quality indices are only shown for pixels that are water.\n",
    "Pixels that are water are selected using the condition that `water == 128`. \n",
    "To learn more about working with WOfS bit flags, see the [Applying WOfS bitmasking notebook](Applying_WOfS_bitmasking.ipynb)."
   ]
  },
  {
   "cell_type": "code",
   "execution_count": 7,
   "metadata": {},
   "outputs": [
    {
     "name": "stdout",
     "output_type": "stream",
     "text": [
      "<xarray.DataArray 'water' (y: 77, x: 145)>\n",
      "dask.array<getitem, shape=(77, 145), dtype=bool, chunksize=(77, 145), chunktype=numpy.ndarray>\n",
      "Coordinates:\n",
      "    time         datetime64[ns] 2016-05-02T11:27:05.980064\n",
      "  * y            (y) float64 1.643e+06 1.643e+06 1.643e+06 ... 1.64e+06 1.64e+06\n",
      "  * x            (x) float64 2.575e+05 2.576e+05 ... 2.618e+05 2.618e+05\n",
      "    spatial_ref  int32 32628\n"
     ]
    }
   ],
   "source": [
    "# Load water observations\n",
    "water = dc.load(\n",
    "            product=\"wofs_ls\",\n",
    "            group_by=\"solar_day\",\n",
    "            like=ds.geobox,\n",
    "            dask_chunks={\"time\": 1, \"x\": 2000, \"y\": 2000},\n",
    "            collection_category='T1',\n",
    "            time=query['time']).water \n",
    "\n",
    "#extract from mask the areas classified as water\n",
    "water_extent = (water == 128).squeeze()\n",
    "\n",
    "print(water_extent)"
   ]
  },
  {
   "cell_type": "code",
   "execution_count": 8,
   "metadata": {},
   "outputs": [
    {
     "name": "stderr",
     "output_type": "stream",
     "text": [
      "CPLReleaseMutex: Error = 1 (Operation not permitted)\n"
     ]
    },
    {
     "data": {
      "image/png": "[encoded data removed]",
      "text/plain": [
       "<Figure size 864x432 with 2 Axes>"
      ]
     },
     "metadata": {
      "needs_background": "light"
     },
     "output_type": "display_data"
    }
   ],
   "source": [
    "# Plot the geomedian composite and water extent\n",
    "fig, ax = plt.subplots(1, 2, figsize=(12, 6))\n",
    "\n",
    "#plot the true colour image\n",
    "rgb(ds, ax=ax[0], index=0)\n",
    "\n",
    "#plot the water extent from WOfS\n",
    "water_extent.plot.imshow(ax=ax[1], cmap=\"Blues\", add_colorbar=False)\n",
    "\n",
    "# Titles\n",
    "ax[0].set_title(\"Geomedian Mosaic\"), ax[0].xaxis.set_visible(False), ax[0].yaxis.set_visible(False)\n",
    "ax[1].set_title(\"Water Extent\"), ax[1].xaxis.set_visible(False), ax[1].yaxis.set_visible(False);\n"
   ]
  },
  {
   "cell_type": "markdown",
   "metadata": {},
   "source": [
    "If the default settings were used, we should see that Lake Manyara appears to be significantly polluted in the northern half on February 16, 2016."
   ]
  },
  {
   "cell_type": "markdown",
   "metadata": {},
   "source": [
    "## Total Suspended Sediment Algorithms\n",
    "\n",
    "First we will calculate the water quality using each of the algorithms, then we wil compare the approaches."
   ]
  },
  {
   "cell_type": "markdown",
   "metadata": {},
   "source": [
    "### (1) Lymburner Total Suspended Matter (TSM)\n",
    "Paper: [Lymburner et al. 2016](https://www.sciencedirect.com/science/article/abs/pii/S0034425716301560)\n",
    "\n",
    "Units of mg/L concentration\n",
    "\n",
    "TSM for Landsat 7:\n",
    "$$\n",
    "LYM7 = 3983 \\cdot (\\frac{(\\text{Green} + \\text{Red}) * 0.0001}{2})^{1.6246}\n",
    "$$\n",
    "\n",
    "TSM for Landsat 8:\n",
    "$$\n",
    "LYM8 = 3957 \\cdot (\\frac{(\\text{Green} + \\text{Red}) * 0.0001}{2})^{1.6436}\n",
    "$$\n",
    "\n",
    "Here, we're using Landsat 8, so we'll use the LYM8 function."
   ]
  },
  {
   "cell_type": "code",
   "execution_count": 9,
   "metadata": {},
   "outputs": [],
   "source": [
    "# Function to calculate Lymburner TSM value for Landsat 7\n",
    "def LYM7(dataset):\n",
    "    return 3983 * ((dataset.green + dataset.red) * 0.0001 / 2) ** 1.6246"
   ]
  },
  {
   "cell_type": "code",
   "execution_count": 10,
   "metadata": {},
   "outputs": [],
   "source": [
    "# Function to calculate Lymburner TSM value for Landsat 8\n",
    "def LYM8(dataset):\n",
    "    return 3957 * ((dataset.green + dataset.red) * 0.0001 / 2) ** 1.6436"
   ]
  },
  {
   "cell_type": "code",
   "execution_count": 11,
   "metadata": {},
   "outputs": [],
   "source": [
    "# Calculate the Lymburner TSM value for Landsat 8, using water extent to mask\n",
    "lym8 = LYM8(ds).where(water_extent)"
   ]
  },
  {
   "cell_type": "code",
   "execution_count": 12,
   "metadata": {},
   "outputs": [],
   "source": [
    "# Determine the 2% and 98% quantiles and set as min and max respectively\n",
    "lym8_min = lym8.quantile(0.02).values\n",
    "lym8_max = lym8.quantile(0.98).values"
   ]
  },
  {
   "cell_type": "markdown",
   "metadata": {},
   "source": [
    "### (2) Suspended Particulate Model (SPM)\n",
    "Paper: [Zhongfeng Qiu et.al. 2013](https://www.researchgate.net/publication/260152686_A_simple_optical_model_to_estimate_suspended_particulate_matter_in_Yellow_River_Estuary)\n",
    "\n",
    "Units of g/m^3 concentration\n",
    "\n",
    "SPM for Landsat 8:\n",
    "$$\n",
    "X = 2.26*(\\frac{\\text{Red}}{\\text{Green}})^3 - \n",
    "           5.42*(\\frac{\\text{Red}}{\\text{Green}})^2 +\n",
    "           5.58*(\\frac{\\text{Red}}{\\text{Green}}) - 0.72\n",
    "$$\n",
    "\n",
    "$$\n",
    "SPM = 10^{X} - 1.43\n",
    "$$"
   ]
  },
  {
   "cell_type": "code",
   "execution_count": 13,
   "metadata": {},
   "outputs": [],
   "source": [
    "# Function to calculate Suspended Particulate Model value\n",
    "def SPM_QIU(dataset):\n",
    "    return (\n",
    "        10 ** (\n",
    "            2.26 * (dataset.red / dataset.green) ** 3\n",
    "            - 5.42 * (dataset.red / dataset.green) ** 2\n",
    "            + 5.58 * (dataset.red / dataset.green)\n",
    "            - 0.72\n",
    "        )\n",
    "        - 1.43\n",
    "    )"
   ]
  },
  {
   "cell_type": "code",
   "execution_count": 14,
   "metadata": {},
   "outputs": [],
   "source": [
    "# Calculate the SPM value for Landsat 8, using water extent to mask\n",
    "spm_qiu = SPM_QIU(ds).where(water_extent)"
   ]
  },
  {
   "cell_type": "code",
   "execution_count": 15,
   "metadata": {},
   "outputs": [],
   "source": [
    "# Determine the 2% and 98% quantiles and set as min and max respectively\n",
    "spm_qiu_min = spm_qiu.quantile(0.02).values\n",
    "spm_qiu_max = spm_qiu.quantile(0.98).values"
   ]
  },
  {
   "cell_type": "markdown",
   "metadata": {},
   "source": [
    "### (3) Normalized Difference Suspended Sediment Index (NDSSI)\n",
    "Paper: [Hossain et al. 2010](https://www.researchgate.net/publication/251236287_Development_of_Remote_Sensing_Based_Index_for_EstimatingMapping_Suspended_Sediment_Concentration_in_River_and_Lake_Environments)\n",
    "\n",
    "NDSSI for Landsat 7 and 8:\n",
    "$$\n",
    "NDSSI = \\frac{\\text{Blue}-\\text{NIR}}{\\text{Blue}+\\text{NIR}}\n",
    "$$\n",
    "\n",
    "The NDSSI value ranges from -1 to +1. Values closer to +1 indicate higher concentration of sediment."
   ]
  },
  {
   "cell_type": "code",
   "execution_count": 16,
   "metadata": {},
   "outputs": [],
   "source": [
    "# Function to calculate SNDSSI value\n",
    "def NDSSI(dataset):\n",
    "    return (dataset.blue - dataset.nir) / (dataset.blue + dataset.nir)"
   ]
  },
  {
   "cell_type": "code",
   "execution_count": 17,
   "metadata": {},
   "outputs": [],
   "source": [
    "# Calculate the NDSSI value for Landsat 8, using water extent to mask\n",
    "ndssi = NDSSI(ds).where(water_extent)"
   ]
  },
  {
   "cell_type": "code",
   "execution_count": 18,
   "metadata": {},
   "outputs": [],
   "source": [
    "# Determine the 2% and 98% quantiles and set as min and max respectively\n",
    "ndssi_min = ndssi.quantile(0.02).compute().values\n",
    "ndssi_max = ndssi.quantile(0.98).compute().values"
   ]
  },
  {
   "cell_type": "markdown",
   "metadata": {},
   "source": [
    "### (4) Quang Total Suspended Solids (TSS)\n",
    "Paper: [Quang et al. 2017](https://www.mdpi.com/2073-4441/9/8/570)\n",
    "\n",
    "Units of mg/L concentration\n",
    "\n",
    "$$\n",
    "Quang8 = 380.32 * \\text{Red}*0.0001 - 1.7826\n",
    "$$"
   ]
  },
  {
   "cell_type": "code",
   "execution_count": 19,
   "metadata": {},
   "outputs": [],
   "source": [
    "# Function to calculate quang8 value\n",
    "def QUANG8(dataset):\n",
    "    return 380.32 * (dataset.red) * 0.0001 - 1.7826"
   ]
  },
  {
   "cell_type": "code",
   "execution_count": 20,
   "metadata": {},
   "outputs": [],
   "source": [
    "# Calculate the quang8 value for Landsat 8, using water extent to mask\n",
    "quang8 = QUANG8(ds).where(water_extent)"
   ]
  },
  {
   "cell_type": "code",
   "execution_count": 21,
   "metadata": {},
   "outputs": [],
   "source": [
    "# Determine the 2% and 98% quantiles and set as min and max respectively\n",
    "quang8_min = quang8.quantile(0.02).compute().values\n",
    "quang8_max = quang8.quantile(0.98).compute().values"
   ]
  },
  {
   "cell_type": "markdown",
   "metadata": {},
   "source": [
    "## Compare the algorithms' outputs"
   ]
  },
  {
   "cell_type": "code",
   "execution_count": 22,
   "metadata": {},
   "outputs": [
    {
     "name": "stdout",
     "output_type": "stream",
     "text": [
      "Total Suspended Matter (Black=Low, Purple=Medium-Low, Orange=Medium-High, Yellow=High)\n"
     ]
    },
    {
     "data": {
      "image/png": "[encoded data removed]",
      "text/plain": [
       "<Figure size 864x864 with 4 Axes>"
      ]
     },
     "metadata": {
      "needs_background": "light"
     },
     "output_type": "display_data"
    }
   ],
   "source": [
    "fig, ax = plt.subplots(2, 2, figsize=(12, 12))\n",
    "cmap='magma'\n",
    "\n",
    "lym8.plot(\n",
    "    ax=ax[0, 0], cmap=cmap, add_colorbar=False, vmin=lym8_min, vmax=lym8_max\n",
    ")\n",
    "\n",
    "spm_qiu.plot(\n",
    "    ax=ax[0, 1], cmap=cmap, add_colorbar=False, vmin=spm_qiu_min, vmax=spm_qiu_max\n",
    ")\n",
    "\n",
    "ndssi.plot(\n",
    "    ax=ax[1, 0], cmap=cmap, add_colorbar=False, vmin=ndssi_min, vmax=ndssi_max\n",
    ")\n",
    "\n",
    "quang8.plot(\n",
    "    ax=ax[1, 1], cmap=cmap, add_colorbar=False, vmin=quang8_min, vmax=quang8_max\n",
    ")\n",
    "\n",
    "print(\n",
    "    \"Total Suspended Matter (Black=Low, Purple=Medium-Low, \"\n",
    "    \"Orange=Medium-High, Yellow=High)\"\n",
    ")\n",
    "\n",
    "# Titles\n",
    "ax[0, 0].set_title(\"TSM = Leo Lymburner\"), ax[0, 0].xaxis.set_visible(False), ax[0, 0].yaxis.set_visible(False)\n",
    "ax[0, 1].set_title(\"TSM = Zhongfeng Qui\"), ax[0, 1].xaxis.set_visible(False), ax[0, 1].yaxis.set_visible(False)\n",
    "ax[1, 0].set_title(\"TSM = NDSSI (Hossain)\"), ax[1, 0].xaxis.set_visible(False), ax[1, 0].yaxis.set_visible(False)\n",
    "ax[1, 1].set_title(\"TSM = Quang Pham\"), ax[1, 1].xaxis.set_visible(False), ax[1, 1].yaxis.set_visible(False)\n",
    "\n",
    "plt.tight_layout();"
   ]
  },
  {
   "cell_type": "markdown",
   "metadata": {},
   "source": [
    "If the default settings were used, we should see that all the indices reflect the appearance of the lake (where murky, the index is high) except NDSSI, though it does appear to be related to the others - mostly low where the others are high and vice versa."
   ]
  },
  {
   "cell_type": "markdown",
   "metadata": {},
   "source": [
    "***\n",
    "\n",
    "## Additional information\n",
    "\n",
    "**License:** The code in this notebook is licensed under the [Apache License, Version 2.0](https://www.apache.org/licenses/LICENSE-2.0). \n",
    "Digital Earth Africa data is licensed under the [Creative Commons by Attribution 4.0](https://creativecommons.org/licenses/by/4.0/) license.\n",
    "\n",
    "**Contact:** If you need assistance, please post a question on the [Open Data Cube Slack channel](http://slack.opendatacube.org/) or on the [GIS Stack Exchange](https://gis.stackexchange.com/questions/ask?tags=open-data-cube) using the `open-data-cube` tag (you can view previously asked questions [here](https://gis.stackexchange.com/questions/tagged/open-data-cube)).\n",
    "If you would like to report an issue with this notebook, you can file one on [Github](https://github.com/digitalearthafrica/deafrica-sandbox-notebooks).\n",
    "\n",
    "**Compatible `datacube` version:** "
   ]
  },
  {
   "cell_type": "code",
   "execution_count": 23,
   "metadata": {},
   "outputs": [
    {
     "name": "stdout",
     "output_type": "stream",
     "text": [
      "1.8.6\n"
     ]
    }
   ],
   "source": [
    "print(datacube.__version__)"
   ]
  },
  {
   "cell_type": "markdown",
   "metadata": {},
   "source": [
    "**Last Tested:**"
   ]
  },
  {
   "cell_type": "code",
   "execution_count": 24,
   "metadata": {},
   "outputs": [
    {
     "data": {
      "text/plain": [
       "'2022-06-14'"
      ]
     },
     "execution_count": 24,
     "metadata": {},
     "output_type": "execute_result"
    }
   ],
   "source": [
    "from datetime import datetime\n",
    "datetime.today().strftime('%Y-%m-%d')"
   ]
  }
 ],
 "metadata": {
  "kernelspec": {
   "display_name": "Python 3 (ipykernel)",
   "language": "python",
   "name": "python3"
  },
  "language_info": {
   "codemirror_mode": {
    "name": "ipython",
    "version": 3
   },
   "file_extension": ".py",
   "mimetype": "text/x-python",
   "name": "python",
   "nbconvert_exporter": "python",
   "pygments_lexer": "ipython3",
   "version": "3.8.10"
  },
  "widgets": {
   "application/vnd.jupyter.widget-state+json": {
    "state": {},
    "version_major": 2,
    "version_minor": 0
   }
  }
 },
 "nbformat": 4,
 "nbformat_minor": 4
}
